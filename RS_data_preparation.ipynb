{
  "nbformat": 4,
  "nbformat_minor": 0,
  "metadata": {
    "colab": {
      "name": "RS_data_preparation.ipynb",
      "provenance": [],
      "collapsed_sections": [],
      "include_colab_link": true
    },
    "kernelspec": {
      "name": "python3",
      "display_name": "Python 3"
    },
    "accelerator": "GPU"
  },
  "cells": [
    {
      "cell_type": "markdown",
      "metadata": {
        "id": "view-in-github",
        "colab_type": "text"
      },
      "source": [
        "<a href=\"https://colab.research.google.com/github/viratchowdary21/news-recommender-system-/blob/main/RS_data_preparation.ipynb\" target=\"_parent\"><img src=\"https://colab.research.google.com/assets/colab-badge.svg\" alt=\"Open In Colab\"/></a>"
      ]
    },
    {
      "cell_type": "code",
      "metadata": {
        "id": "_howag19lpUt"
      },
      "source": [
        "from bs4 import BeautifulSoup\n",
        "import requests\n",
        "import pandas as pd \n",
        "import lxml\n",
        "import time"
      ],
      "execution_count": null,
      "outputs": []
    },
    {
      "cell_type": "code",
      "metadata": {
        "colab": {
          "base_uri": "https://localhost:8080/",
          "height": 589
        },
        "id": "WdPjDL_rb-cy",
        "outputId": "e1348f14-631c-4d33-eede-8368ae933df2"
      },
      "source": [
        "\n",
        "df=[]\n",
        "\n",
        "catelist=['sports','business','india','world','lifestyle',]\n",
        "def scrapdata(pageurl,cid,csid):\n",
        "  tdf=[]\n",
        "  url=pageurl\n",
        "  r = requests.get(url) \n",
        "  soup = BeautifulSoup(r.content, 'lxml')\n",
        "  for i in soup.find_all('div',attrs={ 'class':'brief_box '}):\n",
        "    head_line=i.find('h2')\n",
        "    tdf.append(head_line.string)\n",
        "    #print(head_line.string)\n",
        "    art_summary=i.find('p')\n",
        "    tdf.append(art_summary.string)\n",
        "    # print(art_summary.string+\"\\n\")\n",
        "    art_cat=i.find('span',attrs={'class':'subsection_card'})\n",
        "    tdf.append(art_cat.string)\n",
        "    #print(art_cat.string)\n",
        "    contentid=int((cid+str(csid)))\n",
        "    tdf.append(contentid)\n",
        "    csid=csid+1\n",
        "    alink=head_line.find('a')\n",
        "    tdf.append(alink['href'])\n",
        "    imgsrc=i.find('img')\n",
        "    tdf.append(imgsrc['src'])\n",
        "    \n",
        "    df.append(tdf)\n",
        "\n",
        "    tdf=[]\n",
        "\n",
        "\n",
        "for i in catelist:\n",
        "  catid=str((catelist.index(i)+1)*100)\n",
        "  catsubid=1\n",
        "  consurl=\"https://timesofindia.indiatimes.com/briefs/\"+i\n",
        "  scrapdata(consurl,catid,catsubid)\n",
        "new_dataframe = pd.DataFrame(df, columns =['head_line', 'description', 'category','contentid','link','img'])\n",
        "new_dataframe"
      ],
      "execution_count": null,
      "outputs": [
        {
          "output_type": "execute_result",
          "data": {
            "text/html": [
              "<div>\n",
              "<style scoped>\n",
              "    .dataframe tbody tr th:only-of-type {\n",
              "        vertical-align: middle;\n",
              "    }\n",
              "\n",
              "    .dataframe tbody tr th {\n",
              "        vertical-align: top;\n",
              "    }\n",
              "\n",
              "    .dataframe thead th {\n",
              "        text-align: right;\n",
              "    }\n",
              "</style>\n",
              "<table border=\"1\" class=\"dataframe\">\n",
              "  <thead>\n",
              "    <tr style=\"text-align: right;\">\n",
              "      <th></th>\n",
              "      <th>head_line</th>\n",
              "      <th>description</th>\n",
              "      <th>category</th>\n",
              "      <th>contentid</th>\n",
              "      <th>link</th>\n",
              "      <th>img</th>\n",
              "    </tr>\n",
              "  </thead>\n",
              "  <tbody>\n",
              "    <tr>\n",
              "      <th>0</th>\n",
              "      <td>IPL 2021: Shahbaz Ahmed has proved himself wit...</td>\n",
              "      <td>Shahbaz Ahmed picked up three wickets in an ov...</td>\n",
              "      <td>Sports</td>\n",
              "      <td>1001</td>\n",
              "      <td>/sports/cricket/ipl/top-stories/ipl-2021-shahb...</td>\n",
              "      <td>https://static.toiimg.com/photo/resizemode-4,m...</td>\n",
              "    </tr>\n",
              "    <tr>\n",
              "      <th>1</th>\n",
              "      <td>Heath Streak's offences did not affect match o...</td>\n",
              "      <td>According to the findings of ICC's anti-corrup...</td>\n",
              "      <td>Sports</td>\n",
              "      <td>1002</td>\n",
              "      <td>/sports/cricket/ipl/top-stories/heath-streaks-...</td>\n",
              "      <td>https://static.toiimg.com/photo/resizemode-4,m...</td>\n",
              "    </tr>\n",
              "    <tr>\n",
              "      <th>2</th>\n",
              "      <td>IPL 2021, SRH vs RCB: My role at Royal Challen...</td>\n",
              "      <td>Glenn Maxwell, who scored his first IPL half-c...</td>\n",
              "      <td>Sports</td>\n",
              "      <td>1003</td>\n",
              "      <td>/sports/cricket/ipl/top-stories/ipl-2021-srh-v...</td>\n",
              "      <td>https://static.toiimg.com/photo/resizemode-4,m...</td>\n",
              "    </tr>\n",
              "    <tr>\n",
              "      <th>3</th>\n",
              "      <td>IPL 2021, SRH vs RCB: Virat Kohli reprimanded ...</td>\n",
              "      <td>Royal Challengers Bangalore captain Virat Kohl...</td>\n",
              "      <td>Sports</td>\n",
              "      <td>1004</td>\n",
              "      <td>/sports/cricket/ipl/top-stories/ipl-2021-srh-v...</td>\n",
              "      <td>https://static.toiimg.com/photo/resizemode-4,m...</td>\n",
              "    </tr>\n",
              "    <tr>\n",
              "      <th>4</th>\n",
              "      <td>IPL 2021, SRH vs RCB: A very big bitter pill t...</td>\n",
              "      <td>Sunrisers Hyderabad (SRH) skipper David Warner...</td>\n",
              "      <td>Sports</td>\n",
              "      <td>1005</td>\n",
              "      <td>/sports/cricket/ipl/top-stories/ipl-2021-srh-v...</td>\n",
              "      <td>https://static.toiimg.com/photo/resizemode-4,m...</td>\n",
              "    </tr>\n",
              "    <tr>\n",
              "      <th>...</th>\n",
              "      <td>...</td>\n",
              "      <td>...</td>\n",
              "      <td>...</td>\n",
              "      <td>...</td>\n",
              "      <td>...</td>\n",
              "      <td>...</td>\n",
              "    </tr>\n",
              "    <tr>\n",
              "      <th>244</th>\n",
              "      <td>Watch: The 3-year-old boy’s baking goof-up is ...</td>\n",
              "      <td>In a recent video, that is doing rounds on soc...</td>\n",
              "      <td>LifeStyle</td>\n",
              "      <td>50045</td>\n",
              "      <td>/life-style/food-news/watch-the-3-year-old-boy...</td>\n",
              "      <td>https://static.toiimg.com/photo/resizemode-4,m...</td>\n",
              "    </tr>\n",
              "    <tr>\n",
              "      <th>245</th>\n",
              "      <td>Bollywood actress Divya Dutta to narrate her a...</td>\n",
              "      <td>Bollywood actress Divya Dutta  turned an autho...</td>\n",
              "      <td>LifeStyle</td>\n",
              "      <td>50046</td>\n",
              "      <td>/life-style/books/features/bollywood-actress-d...</td>\n",
              "      <td>https://static.toiimg.com/photo/resizemode-4,m...</td>\n",
              "    </tr>\n",
              "    <tr>\n",
              "      <th>246</th>\n",
              "      <td>Aditi Rao Hydari's pickle green sari is unmiss...</td>\n",
              "      <td>From flowy dresses to distressed denims, the a...</td>\n",
              "      <td>LifeStyle</td>\n",
              "      <td>50047</td>\n",
              "      <td>/life-style/fashion/celeb-style/aditi-rao-hyda...</td>\n",
              "      <td>https://static.toiimg.com/photo/resizemode-4,m...</td>\n",
              "    </tr>\n",
              "    <tr>\n",
              "      <th>247</th>\n",
              "      <td>Japanese Cherry Blossoms: The latest beauty hack</td>\n",
              "      <td>Cherry blossom is a flower that grows of genus...</td>\n",
              "      <td>LifeStyle</td>\n",
              "      <td>50048</td>\n",
              "      <td>/life-style/beauty/why-japanese-cherry-blossom...</td>\n",
              "      <td>https://static.toiimg.com/photo/resizemode-4,m...</td>\n",
              "    </tr>\n",
              "    <tr>\n",
              "      <th>248</th>\n",
              "      <td>\"COVID was unusual\", shares Milind Soman on re...</td>\n",
              "      <td>The 55-year-old pro runner, known to lead a pr...</td>\n",
              "      <td>LifeStyle</td>\n",
              "      <td>50049</td>\n",
              "      <td>/life-style/health-fitness/health-news/milind-...</td>\n",
              "      <td>https://static.toiimg.com/photo/resizemode-4,m...</td>\n",
              "    </tr>\n",
              "  </tbody>\n",
              "</table>\n",
              "<p>249 rows × 6 columns</p>\n",
              "</div>"
            ],
            "text/plain": [
              "                                             head_line  ...                                                img\n",
              "0    IPL 2021: Shahbaz Ahmed has proved himself wit...  ...  https://static.toiimg.com/photo/resizemode-4,m...\n",
              "1    Heath Streak's offences did not affect match o...  ...  https://static.toiimg.com/photo/resizemode-4,m...\n",
              "2    IPL 2021, SRH vs RCB: My role at Royal Challen...  ...  https://static.toiimg.com/photo/resizemode-4,m...\n",
              "3    IPL 2021, SRH vs RCB: Virat Kohli reprimanded ...  ...  https://static.toiimg.com/photo/resizemode-4,m...\n",
              "4    IPL 2021, SRH vs RCB: A very big bitter pill t...  ...  https://static.toiimg.com/photo/resizemode-4,m...\n",
              "..                                                 ...  ...                                                ...\n",
              "244  Watch: The 3-year-old boy’s baking goof-up is ...  ...  https://static.toiimg.com/photo/resizemode-4,m...\n",
              "245  Bollywood actress Divya Dutta to narrate her a...  ...  https://static.toiimg.com/photo/resizemode-4,m...\n",
              "246  Aditi Rao Hydari's pickle green sari is unmiss...  ...  https://static.toiimg.com/photo/resizemode-4,m...\n",
              "247   Japanese Cherry Blossoms: The latest beauty hack  ...  https://static.toiimg.com/photo/resizemode-4,m...\n",
              "248  \"COVID was unusual\", shares Milind Soman on re...  ...  https://static.toiimg.com/photo/resizemode-4,m...\n",
              "\n",
              "[249 rows x 6 columns]"
            ]
          },
          "metadata": {
            "tags": []
          },
          "execution_count": 2
        }
      ]
    },
    {
      "cell_type": "code",
      "metadata": {
        "colab": {
          "base_uri": "https://localhost:8080/"
        },
        "id": "0ivirLmjlLbO",
        "outputId": "369153a2-64d1-4859-d14e-be8fe8f7649c"
      },
      "source": [
        "# from google.colab import drive\n",
        "# drive.mount('/content/drive')"
      ],
      "execution_count": null,
      "outputs": [
        {
          "output_type": "stream",
          "text": [
            "Mounted at /content/drive\n"
          ],
          "name": "stdout"
        }
      ]
    },
    {
      "cell_type": "markdown",
      "metadata": {
        "id": "hkb_HaMp9og1"
      },
      "source": [
        "usri=\n",
        "contetid"
      ]
    },
    {
      "cell_type": "markdown",
      "metadata": {
        "id": "5LT9vde8-Ku8"
      },
      "source": [
        "pref\n",
        "4-10recc"
      ]
    },
    {
      "cell_type": "code",
      "metadata": {
        "id": "yQ2wVoaPlejK"
      },
      "source": [
        "new_dataframe = pd.read_csv('/content/drive/MyDrive/df2/articlesdata.csv')"
      ],
      "execution_count": null,
      "outputs": []
    },
    {
      "cell_type": "code",
      "metadata": {
        "id": "pib3ZyF4pAgI",
        "colab": {
          "base_uri": "https://localhost:8080/"
        },
        "outputId": "6969228a-61bc-4adb-f6a7-20f0d6c1c212"
      },
      "source": [
        "new_dataframe.isnull().sum()"
      ],
      "execution_count": null,
      "outputs": [
        {
          "output_type": "execute_result",
          "data": {
            "text/plain": [
              "head_line      0\n",
              "description    0\n",
              "category       0\n",
              "contentid      0\n",
              "link           0\n",
              "img            0\n",
              "dtype: int64"
            ]
          },
          "metadata": {
            "tags": []
          },
          "execution_count": 5
        }
      ]
    },
    {
      "cell_type": "code",
      "metadata": {
        "id": "hAoRnJ6N_Gr_",
        "colab": {
          "base_uri": "https://localhost:8080/",
          "height": 824
        },
        "outputId": "3c567603-b6c0-46ff-f8e4-308b4a18e2ab"
      },
      "source": [
        "import random as rn\n",
        "udf=[]\n",
        "uid=[]\n",
        "\n",
        "for i in range(25):\n",
        "  uid.append(i)\n",
        "  art_read=rn.randint(50,60)\n",
        "  readset=set()\n",
        "  for i in range(art_read):\n",
        "    ar=rn.choice(new_dataframe['contentid'])\n",
        "    readset.add(ar)\n",
        "  readlist=list(readset)\n",
        "  uid.append(len(readlist))\n",
        "  uid.append(readlist)\n",
        "  udf.append(uid)\n",
        "  uid=[]\n",
        "  user_new_dataframe = pd.DataFrame(udf, columns =['usr_id', 'articles_read', 'articles_list'])\n",
        "user_new_dataframe"
      ],
      "execution_count": null,
      "outputs": [
        {
          "output_type": "execute_result",
          "data": {
            "text/html": [
              "<div>\n",
              "<style scoped>\n",
              "    .dataframe tbody tr th:only-of-type {\n",
              "        vertical-align: middle;\n",
              "    }\n",
              "\n",
              "    .dataframe tbody tr th {\n",
              "        vertical-align: top;\n",
              "    }\n",
              "\n",
              "    .dataframe thead th {\n",
              "        text-align: right;\n",
              "    }\n",
              "</style>\n",
              "<table border=\"1\" class=\"dataframe\">\n",
              "  <thead>\n",
              "    <tr style=\"text-align: right;\">\n",
              "      <th></th>\n",
              "      <th>usr_id</th>\n",
              "      <th>articles_read</th>\n",
              "      <th>articles_list</th>\n",
              "    </tr>\n",
              "  </thead>\n",
              "  <tbody>\n",
              "    <tr>\n",
              "      <th>0</th>\n",
              "      <td>0</td>\n",
              "      <td>58</td>\n",
              "      <td>[40064, 11009, 70018, 70019, 70020, 40067, 400...</td>\n",
              "    </tr>\n",
              "    <tr>\n",
              "      <th>1</th>\n",
              "      <td>1</td>\n",
              "      <td>58</td>\n",
              "      <td>[11009, 40067, 5004, 80014, 80016, 80023, 8002...</td>\n",
              "    </tr>\n",
              "    <tr>\n",
              "      <th>2</th>\n",
              "      <td>2</td>\n",
              "      <td>47</td>\n",
              "      <td>[40068, 70025, 10001, 80018, 80017, 90010, 900...</td>\n",
              "    </tr>\n",
              "    <tr>\n",
              "      <th>3</th>\n",
              "      <td>3</td>\n",
              "      <td>49</td>\n",
              "      <td>[11009, 70017, 70021, 40074, 80011, 10003, 600...</td>\n",
              "    </tr>\n",
              "    <tr>\n",
              "      <th>4</th>\n",
              "      <td>4</td>\n",
              "      <td>59</td>\n",
              "      <td>[70016, 70020, 70021, 40070, 40075, 80020, 800...</td>\n",
              "    </tr>\n",
              "    <tr>\n",
              "      <th>5</th>\n",
              "      <td>5</td>\n",
              "      <td>52</td>\n",
              "      <td>[5004, 80016, 10002, 10015, 4005, 10025, 10001...</td>\n",
              "    </tr>\n",
              "    <tr>\n",
              "      <th>6</th>\n",
              "      <td>6</td>\n",
              "      <td>51</td>\n",
              "      <td>[80014, 10008, 6009, 90010, 10012, 90014, 4006...</td>\n",
              "    </tr>\n",
              "    <tr>\n",
              "      <th>7</th>\n",
              "      <td>7</td>\n",
              "      <td>53</td>\n",
              "      <td>[40068, 40069, 5004, 80015, 80018, 80022, 1000...</td>\n",
              "    </tr>\n",
              "    <tr>\n",
              "      <th>8</th>\n",
              "      <td>8</td>\n",
              "      <td>53</td>\n",
              "      <td>[40070, 70024, 40075, 5008, 80017, 80021, 8002...</td>\n",
              "    </tr>\n",
              "    <tr>\n",
              "      <th>9</th>\n",
              "      <td>9</td>\n",
              "      <td>51</td>\n",
              "      <td>[70023, 70024, 5003, 80011, 10007, 80025, 1001...</td>\n",
              "    </tr>\n",
              "    <tr>\n",
              "      <th>10</th>\n",
              "      <td>10</td>\n",
              "      <td>54</td>\n",
              "      <td>[70018, 40074, 80011, 80014, 5007, 10011, 1001...</td>\n",
              "    </tr>\n",
              "    <tr>\n",
              "      <th>11</th>\n",
              "      <td>11</td>\n",
              "      <td>57</td>\n",
              "      <td>[70016, 11008, 40074, 80017, 80018, 90011, 100...</td>\n",
              "    </tr>\n",
              "    <tr>\n",
              "      <th>12</th>\n",
              "      <td>12</td>\n",
              "      <td>57</td>\n",
              "      <td>[11008, 70016, 70020, 40071, 5008, 80017, 9001...</td>\n",
              "    </tr>\n",
              "    <tr>\n",
              "      <th>13</th>\n",
              "      <td>13</td>\n",
              "      <td>52</td>\n",
              "      <td>[70016, 40064, 40065, 10007, 10015, 10018, 100...</td>\n",
              "    </tr>\n",
              "    <tr>\n",
              "      <th>14</th>\n",
              "      <td>14</td>\n",
              "      <td>47</td>\n",
              "      <td>[80010, 40075, 80019, 10007, 80025, 90015, 900...</td>\n",
              "    </tr>\n",
              "    <tr>\n",
              "      <th>15</th>\n",
              "      <td>15</td>\n",
              "      <td>55</td>\n",
              "      <td>[70025, 5004, 80013, 80016, 80021, 80022, 9001...</td>\n",
              "    </tr>\n",
              "    <tr>\n",
              "      <th>16</th>\n",
              "      <td>16</td>\n",
              "      <td>56</td>\n",
              "      <td>[40066, 70021, 80020, 80021, 80023, 10009, 900...</td>\n",
              "    </tr>\n",
              "    <tr>\n",
              "      <th>17</th>\n",
              "      <td>17</td>\n",
              "      <td>50</td>\n",
              "      <td>[40064, 70020, 40073, 80016, 80017, 10002, 100...</td>\n",
              "    </tr>\n",
              "    <tr>\n",
              "      <th>18</th>\n",
              "      <td>18</td>\n",
              "      <td>56</td>\n",
              "      <td>[70016, 40070, 40071, 70023, 40074, 80011, 400...</td>\n",
              "    </tr>\n",
              "    <tr>\n",
              "      <th>19</th>\n",
              "      <td>19</td>\n",
              "      <td>52</td>\n",
              "      <td>[70021, 5006, 80021, 90016, 4001, 4005, 90021,...</td>\n",
              "    </tr>\n",
              "    <tr>\n",
              "      <th>20</th>\n",
              "      <td>20</td>\n",
              "      <td>48</td>\n",
              "      <td>[70017, 40070, 5001, 5002, 80022, 90013, 10015...</td>\n",
              "    </tr>\n",
              "    <tr>\n",
              "      <th>21</th>\n",
              "      <td>21</td>\n",
              "      <td>55</td>\n",
              "      <td>[11008, 40070, 70024, 5006, 10003, 10008, 9001...</td>\n",
              "    </tr>\n",
              "    <tr>\n",
              "      <th>22</th>\n",
              "      <td>22</td>\n",
              "      <td>45</td>\n",
              "      <td>[11009, 70019, 40072, 40073, 80010, 5003, 8001...</td>\n",
              "    </tr>\n",
              "    <tr>\n",
              "      <th>23</th>\n",
              "      <td>23</td>\n",
              "      <td>48</td>\n",
              "      <td>[11008, 40064, 70019, 80019, 80025, 10016, 100...</td>\n",
              "    </tr>\n",
              "    <tr>\n",
              "      <th>24</th>\n",
              "      <td>24</td>\n",
              "      <td>57</td>\n",
              "      <td>[40066, 40070, 40074, 80020, 90013, 10014, 900...</td>\n",
              "    </tr>\n",
              "  </tbody>\n",
              "</table>\n",
              "</div>"
            ],
            "text/plain": [
              "    usr_id  articles_read                                      articles_list\n",
              "0        0             58  [40064, 11009, 70018, 70019, 70020, 40067, 400...\n",
              "1        1             58  [11009, 40067, 5004, 80014, 80016, 80023, 8002...\n",
              "2        2             47  [40068, 70025, 10001, 80018, 80017, 90010, 900...\n",
              "3        3             49  [11009, 70017, 70021, 40074, 80011, 10003, 600...\n",
              "4        4             59  [70016, 70020, 70021, 40070, 40075, 80020, 800...\n",
              "5        5             52  [5004, 80016, 10002, 10015, 4005, 10025, 10001...\n",
              "6        6             51  [80014, 10008, 6009, 90010, 10012, 90014, 4006...\n",
              "7        7             53  [40068, 40069, 5004, 80015, 80018, 80022, 1000...\n",
              "8        8             53  [40070, 70024, 40075, 5008, 80017, 80021, 8002...\n",
              "9        9             51  [70023, 70024, 5003, 80011, 10007, 80025, 1001...\n",
              "10      10             54  [70018, 40074, 80011, 80014, 5007, 10011, 1001...\n",
              "11      11             57  [70016, 11008, 40074, 80017, 80018, 90011, 100...\n",
              "12      12             57  [11008, 70016, 70020, 40071, 5008, 80017, 9001...\n",
              "13      13             52  [70016, 40064, 40065, 10007, 10015, 10018, 100...\n",
              "14      14             47  [80010, 40075, 80019, 10007, 80025, 90015, 900...\n",
              "15      15             55  [70025, 5004, 80013, 80016, 80021, 80022, 9001...\n",
              "16      16             56  [40066, 70021, 80020, 80021, 80023, 10009, 900...\n",
              "17      17             50  [40064, 70020, 40073, 80016, 80017, 10002, 100...\n",
              "18      18             56  [70016, 40070, 40071, 70023, 40074, 80011, 400...\n",
              "19      19             52  [70021, 5006, 80021, 90016, 4001, 4005, 90021,...\n",
              "20      20             48  [70017, 40070, 5001, 5002, 80022, 90013, 10015...\n",
              "21      21             55  [11008, 40070, 70024, 5006, 10003, 10008, 9001...\n",
              "22      22             45  [11009, 70019, 40072, 40073, 80010, 5003, 8001...\n",
              "23      23             48  [11008, 40064, 70019, 80019, 80025, 10016, 100...\n",
              "24      24             57  [40066, 40070, 40074, 80020, 90013, 10014, 900..."
            ]
          },
          "metadata": {
            "tags": []
          },
          "execution_count": 6
        }
      ]
    },
    {
      "cell_type": "code",
      "metadata": {
        "id": "lJF1H6Vq4c_o"
      },
      "source": [
        "user_new_dataframe = user_new_dataframe.drop('articles_read', axis=1)"
      ],
      "execution_count": null,
      "outputs": []
    },
    {
      "cell_type": "code",
      "metadata": {
        "id": "hNTsuQhf5Trd",
        "colab": {
          "base_uri": "https://localhost:8080/",
          "height": 824
        },
        "outputId": "a9087860-6318-4354-88ae-ecd335d4a874"
      },
      "source": [
        "user_new_dataframe"
      ],
      "execution_count": null,
      "outputs": [
        {
          "output_type": "execute_result",
          "data": {
            "text/html": [
              "<div>\n",
              "<style scoped>\n",
              "    .dataframe tbody tr th:only-of-type {\n",
              "        vertical-align: middle;\n",
              "    }\n",
              "\n",
              "    .dataframe tbody tr th {\n",
              "        vertical-align: top;\n",
              "    }\n",
              "\n",
              "    .dataframe thead th {\n",
              "        text-align: right;\n",
              "    }\n",
              "</style>\n",
              "<table border=\"1\" class=\"dataframe\">\n",
              "  <thead>\n",
              "    <tr style=\"text-align: right;\">\n",
              "      <th></th>\n",
              "      <th>usr_id</th>\n",
              "      <th>articles_list</th>\n",
              "    </tr>\n",
              "  </thead>\n",
              "  <tbody>\n",
              "    <tr>\n",
              "      <th>0</th>\n",
              "      <td>0</td>\n",
              "      <td>[40064, 11009, 70018, 70019, 70020, 40067, 400...</td>\n",
              "    </tr>\n",
              "    <tr>\n",
              "      <th>1</th>\n",
              "      <td>1</td>\n",
              "      <td>[11009, 40067, 5004, 80014, 80016, 80023, 8002...</td>\n",
              "    </tr>\n",
              "    <tr>\n",
              "      <th>2</th>\n",
              "      <td>2</td>\n",
              "      <td>[40068, 70025, 10001, 80018, 80017, 90010, 900...</td>\n",
              "    </tr>\n",
              "    <tr>\n",
              "      <th>3</th>\n",
              "      <td>3</td>\n",
              "      <td>[11009, 70017, 70021, 40074, 80011, 10003, 600...</td>\n",
              "    </tr>\n",
              "    <tr>\n",
              "      <th>4</th>\n",
              "      <td>4</td>\n",
              "      <td>[70016, 70020, 70021, 40070, 40075, 80020, 800...</td>\n",
              "    </tr>\n",
              "    <tr>\n",
              "      <th>5</th>\n",
              "      <td>5</td>\n",
              "      <td>[5004, 80016, 10002, 10015, 4005, 10025, 10001...</td>\n",
              "    </tr>\n",
              "    <tr>\n",
              "      <th>6</th>\n",
              "      <td>6</td>\n",
              "      <td>[80014, 10008, 6009, 90010, 10012, 90014, 4006...</td>\n",
              "    </tr>\n",
              "    <tr>\n",
              "      <th>7</th>\n",
              "      <td>7</td>\n",
              "      <td>[40068, 40069, 5004, 80015, 80018, 80022, 1000...</td>\n",
              "    </tr>\n",
              "    <tr>\n",
              "      <th>8</th>\n",
              "      <td>8</td>\n",
              "      <td>[40070, 70024, 40075, 5008, 80017, 80021, 8002...</td>\n",
              "    </tr>\n",
              "    <tr>\n",
              "      <th>9</th>\n",
              "      <td>9</td>\n",
              "      <td>[70023, 70024, 5003, 80011, 10007, 80025, 1001...</td>\n",
              "    </tr>\n",
              "    <tr>\n",
              "      <th>10</th>\n",
              "      <td>10</td>\n",
              "      <td>[70018, 40074, 80011, 80014, 5007, 10011, 1001...</td>\n",
              "    </tr>\n",
              "    <tr>\n",
              "      <th>11</th>\n",
              "      <td>11</td>\n",
              "      <td>[70016, 11008, 40074, 80017, 80018, 90011, 100...</td>\n",
              "    </tr>\n",
              "    <tr>\n",
              "      <th>12</th>\n",
              "      <td>12</td>\n",
              "      <td>[11008, 70016, 70020, 40071, 5008, 80017, 9001...</td>\n",
              "    </tr>\n",
              "    <tr>\n",
              "      <th>13</th>\n",
              "      <td>13</td>\n",
              "      <td>[70016, 40064, 40065, 10007, 10015, 10018, 100...</td>\n",
              "    </tr>\n",
              "    <tr>\n",
              "      <th>14</th>\n",
              "      <td>14</td>\n",
              "      <td>[80010, 40075, 80019, 10007, 80025, 90015, 900...</td>\n",
              "    </tr>\n",
              "    <tr>\n",
              "      <th>15</th>\n",
              "      <td>15</td>\n",
              "      <td>[70025, 5004, 80013, 80016, 80021, 80022, 9001...</td>\n",
              "    </tr>\n",
              "    <tr>\n",
              "      <th>16</th>\n",
              "      <td>16</td>\n",
              "      <td>[40066, 70021, 80020, 80021, 80023, 10009, 900...</td>\n",
              "    </tr>\n",
              "    <tr>\n",
              "      <th>17</th>\n",
              "      <td>17</td>\n",
              "      <td>[40064, 70020, 40073, 80016, 80017, 10002, 100...</td>\n",
              "    </tr>\n",
              "    <tr>\n",
              "      <th>18</th>\n",
              "      <td>18</td>\n",
              "      <td>[70016, 40070, 40071, 70023, 40074, 80011, 400...</td>\n",
              "    </tr>\n",
              "    <tr>\n",
              "      <th>19</th>\n",
              "      <td>19</td>\n",
              "      <td>[70021, 5006, 80021, 90016, 4001, 4005, 90021,...</td>\n",
              "    </tr>\n",
              "    <tr>\n",
              "      <th>20</th>\n",
              "      <td>20</td>\n",
              "      <td>[70017, 40070, 5001, 5002, 80022, 90013, 10015...</td>\n",
              "    </tr>\n",
              "    <tr>\n",
              "      <th>21</th>\n",
              "      <td>21</td>\n",
              "      <td>[11008, 40070, 70024, 5006, 10003, 10008, 9001...</td>\n",
              "    </tr>\n",
              "    <tr>\n",
              "      <th>22</th>\n",
              "      <td>22</td>\n",
              "      <td>[11009, 70019, 40072, 40073, 80010, 5003, 8001...</td>\n",
              "    </tr>\n",
              "    <tr>\n",
              "      <th>23</th>\n",
              "      <td>23</td>\n",
              "      <td>[11008, 40064, 70019, 80019, 80025, 10016, 100...</td>\n",
              "    </tr>\n",
              "    <tr>\n",
              "      <th>24</th>\n",
              "      <td>24</td>\n",
              "      <td>[40066, 40070, 40074, 80020, 90013, 10014, 900...</td>\n",
              "    </tr>\n",
              "  </tbody>\n",
              "</table>\n",
              "</div>"
            ],
            "text/plain": [
              "    usr_id                                      articles_list\n",
              "0        0  [40064, 11009, 70018, 70019, 70020, 40067, 400...\n",
              "1        1  [11009, 40067, 5004, 80014, 80016, 80023, 8002...\n",
              "2        2  [40068, 70025, 10001, 80018, 80017, 90010, 900...\n",
              "3        3  [11009, 70017, 70021, 40074, 80011, 10003, 600...\n",
              "4        4  [70016, 70020, 70021, 40070, 40075, 80020, 800...\n",
              "5        5  [5004, 80016, 10002, 10015, 4005, 10025, 10001...\n",
              "6        6  [80014, 10008, 6009, 90010, 10012, 90014, 4006...\n",
              "7        7  [40068, 40069, 5004, 80015, 80018, 80022, 1000...\n",
              "8        8  [40070, 70024, 40075, 5008, 80017, 80021, 8002...\n",
              "9        9  [70023, 70024, 5003, 80011, 10007, 80025, 1001...\n",
              "10      10  [70018, 40074, 80011, 80014, 5007, 10011, 1001...\n",
              "11      11  [70016, 11008, 40074, 80017, 80018, 90011, 100...\n",
              "12      12  [11008, 70016, 70020, 40071, 5008, 80017, 9001...\n",
              "13      13  [70016, 40064, 40065, 10007, 10015, 10018, 100...\n",
              "14      14  [80010, 40075, 80019, 10007, 80025, 90015, 900...\n",
              "15      15  [70025, 5004, 80013, 80016, 80021, 80022, 9001...\n",
              "16      16  [40066, 70021, 80020, 80021, 80023, 10009, 900...\n",
              "17      17  [40064, 70020, 40073, 80016, 80017, 10002, 100...\n",
              "18      18  [70016, 40070, 40071, 70023, 40074, 80011, 400...\n",
              "19      19  [70021, 5006, 80021, 90016, 4001, 4005, 90021,...\n",
              "20      20  [70017, 40070, 5001, 5002, 80022, 90013, 10015...\n",
              "21      21  [11008, 40070, 70024, 5006, 10003, 10008, 9001...\n",
              "22      22  [11009, 70019, 40072, 40073, 80010, 5003, 8001...\n",
              "23      23  [11008, 40064, 70019, 80019, 80025, 10016, 100...\n",
              "24      24  [40066, 40070, 40074, 80020, 90013, 10014, 900..."
            ]
          },
          "metadata": {
            "tags": []
          },
          "execution_count": 8
        }
      ]
    },
    {
      "cell_type": "code",
      "metadata": {
        "id": "vWUj6bZb33M1"
      },
      "source": [
        "user_new_dataframe = user_new_dataframe.articles_list.apply(pd.Series) \\\n",
        ".merge(user_new_dataframe, right_index = True, left_index = True) \\\n",
        ".drop([\"articles_list\"], axis = 1) \\\n",
        ".melt(id_vars = ['usr_id'], value_name = \"articles_list\")\n"
      ],
      "execution_count": null,
      "outputs": []
    },
    {
      "cell_type": "code",
      "metadata": {
        "id": "hWJb1NY85cfq",
        "colab": {
          "base_uri": "https://localhost:8080/"
        },
        "outputId": "7596e2c9-a398-4bf0-8a4d-81326f8c4af9"
      },
      "source": [
        "user_new_dataframe.isnull().sum()"
      ],
      "execution_count": null,
      "outputs": [
        {
          "output_type": "execute_result",
          "data": {
            "text/plain": [
              "usr_id             0\n",
              "variable           0\n",
              "articles_list    155\n",
              "dtype: int64"
            ]
          },
          "metadata": {
            "tags": []
          },
          "execution_count": 10
        }
      ]
    },
    {
      "cell_type": "code",
      "metadata": {
        "id": "dvDIja6g554F"
      },
      "source": [
        "# df = df[df['EPS'].notna()]\n",
        "user_new_dataframe = user_new_dataframe[user_new_dataframe['articles_list'].notna()]"
      ],
      "execution_count": null,
      "outputs": []
    },
    {
      "cell_type": "code",
      "metadata": {
        "id": "X2im52Ng8nZw",
        "colab": {
          "base_uri": "https://localhost:8080/",
          "height": 419
        },
        "outputId": "90b1b9c4-e247-4579-802e-b194f71abd52"
      },
      "source": [
        "user_new_dataframe"
      ],
      "execution_count": null,
      "outputs": [
        {
          "output_type": "execute_result",
          "data": {
            "text/html": [
              "<div>\n",
              "<style scoped>\n",
              "    .dataframe tbody tr th:only-of-type {\n",
              "        vertical-align: middle;\n",
              "    }\n",
              "\n",
              "    .dataframe tbody tr th {\n",
              "        vertical-align: top;\n",
              "    }\n",
              "\n",
              "    .dataframe thead th {\n",
              "        text-align: right;\n",
              "    }\n",
              "</style>\n",
              "<table border=\"1\" class=\"dataframe\">\n",
              "  <thead>\n",
              "    <tr style=\"text-align: right;\">\n",
              "      <th></th>\n",
              "      <th>usr_id</th>\n",
              "      <th>variable</th>\n",
              "      <th>articles_list</th>\n",
              "    </tr>\n",
              "  </thead>\n",
              "  <tbody>\n",
              "    <tr>\n",
              "      <th>0</th>\n",
              "      <td>0</td>\n",
              "      <td>0</td>\n",
              "      <td>40064.0</td>\n",
              "    </tr>\n",
              "    <tr>\n",
              "      <th>1</th>\n",
              "      <td>1</td>\n",
              "      <td>0</td>\n",
              "      <td>11009.0</td>\n",
              "    </tr>\n",
              "    <tr>\n",
              "      <th>2</th>\n",
              "      <td>2</td>\n",
              "      <td>0</td>\n",
              "      <td>40068.0</td>\n",
              "    </tr>\n",
              "    <tr>\n",
              "      <th>3</th>\n",
              "      <td>3</td>\n",
              "      <td>0</td>\n",
              "      <td>11009.0</td>\n",
              "    </tr>\n",
              "    <tr>\n",
              "      <th>4</th>\n",
              "      <td>4</td>\n",
              "      <td>0</td>\n",
              "      <td>70016.0</td>\n",
              "    </tr>\n",
              "    <tr>\n",
              "      <th>...</th>\n",
              "      <td>...</td>\n",
              "      <td>...</td>\n",
              "      <td>...</td>\n",
              "    </tr>\n",
              "    <tr>\n",
              "      <th>1424</th>\n",
              "      <td>24</td>\n",
              "      <td>56</td>\n",
              "      <td>40062.0</td>\n",
              "    </tr>\n",
              "    <tr>\n",
              "      <th>1425</th>\n",
              "      <td>0</td>\n",
              "      <td>57</td>\n",
              "      <td>130047.0</td>\n",
              "    </tr>\n",
              "    <tr>\n",
              "      <th>1426</th>\n",
              "      <td>1</td>\n",
              "      <td>57</td>\n",
              "      <td>130047.0</td>\n",
              "    </tr>\n",
              "    <tr>\n",
              "      <th>1429</th>\n",
              "      <td>4</td>\n",
              "      <td>57</td>\n",
              "      <td>130044.0</td>\n",
              "    </tr>\n",
              "    <tr>\n",
              "      <th>1454</th>\n",
              "      <td>4</td>\n",
              "      <td>58</td>\n",
              "      <td>70014.0</td>\n",
              "    </tr>\n",
              "  </tbody>\n",
              "</table>\n",
              "<p>1320 rows × 3 columns</p>\n",
              "</div>"
            ],
            "text/plain": [
              "      usr_id variable  articles_list\n",
              "0          0        0        40064.0\n",
              "1          1        0        11009.0\n",
              "2          2        0        40068.0\n",
              "3          3        0        11009.0\n",
              "4          4        0        70016.0\n",
              "...      ...      ...            ...\n",
              "1424      24       56        40062.0\n",
              "1425       0       57       130047.0\n",
              "1426       1       57       130047.0\n",
              "1429       4       57       130044.0\n",
              "1454       4       58        70014.0\n",
              "\n",
              "[1320 rows x 3 columns]"
            ]
          },
          "metadata": {
            "tags": []
          },
          "execution_count": 12
        }
      ]
    },
    {
      "cell_type": "code",
      "metadata": {
        "id": "Ltm8grMzmCD8"
      },
      "source": [
        ""
      ],
      "execution_count": null,
      "outputs": []
    },
    {
      "cell_type": "code",
      "metadata": {
        "id": "14G4_MFZmDa_"
      },
      "source": [
        ""
      ],
      "execution_count": null,
      "outputs": []
    },
    {
      "cell_type": "code",
      "metadata": {
        "id": "6SzAKKvXmDX5"
      },
      "source": [
        ""
      ],
      "execution_count": null,
      "outputs": []
    },
    {
      "cell_type": "code",
      "metadata": {
        "id": "4X--TAQhmDUh"
      },
      "source": [
        ""
      ],
      "execution_count": null,
      "outputs": []
    },
    {
      "cell_type": "code",
      "metadata": {
        "id": "5zv7_5CymDSP"
      },
      "source": [
        ""
      ],
      "execution_count": null,
      "outputs": []
    },
    {
      "cell_type": "code",
      "metadata": {
        "id": "FScWi7wrmDO9"
      },
      "source": [
        ""
      ],
      "execution_count": null,
      "outputs": []
    },
    {
      "cell_type": "code",
      "metadata": {
        "id": "e0u-7gCTmDMn"
      },
      "source": [
        ""
      ],
      "execution_count": null,
      "outputs": []
    },
    {
      "cell_type": "code",
      "metadata": {
        "id": "VOaSSIO5mDHt"
      },
      "source": [
        ""
      ],
      "execution_count": null,
      "outputs": []
    },
    {
      "cell_type": "code",
      "metadata": {
        "id": "Q3ZJpmLVmDFo"
      },
      "source": [
        ""
      ],
      "execution_count": null,
      "outputs": []
    },
    {
      "cell_type": "code",
      "metadata": {
        "id": "2l3ooTLomDCJ"
      },
      "source": [
        ""
      ],
      "execution_count": null,
      "outputs": []
    },
    {
      "cell_type": "code",
      "metadata": {
        "id": "XLAlJXt-mDAi"
      },
      "source": [
        ""
      ],
      "execution_count": null,
      "outputs": []
    },
    {
      "cell_type": "code",
      "metadata": {
        "id": "u-5J7rOGmC-B"
      },
      "source": [
        ""
      ],
      "execution_count": null,
      "outputs": []
    },
    {
      "cell_type": "code",
      "metadata": {
        "id": "4B-B0FpcmC7F"
      },
      "source": [
        ""
      ],
      "execution_count": null,
      "outputs": []
    },
    {
      "cell_type": "code",
      "metadata": {
        "id": "M-WzckO6mC2D"
      },
      "source": [
        ""
      ],
      "execution_count": null,
      "outputs": []
    },
    {
      "cell_type": "code",
      "metadata": {
        "id": "ZFqLroMbmC0B"
      },
      "source": [
        ""
      ],
      "execution_count": null,
      "outputs": []
    },
    {
      "cell_type": "markdown",
      "metadata": {
        "id": "QGroLzdsl6yU"
      },
      "source": [
        "h"
      ]
    },
    {
      "cell_type": "code",
      "metadata": {
        "id": "7MDLvjy66yUZ"
      },
      "source": [
        "user_new_dataframe['articles_list'] = user_new_dataframe.articles_list.astype(int)"
      ],
      "execution_count": null,
      "outputs": []
    },
    {
      "cell_type": "code",
      "metadata": {
        "id": "UTKcqgy17kXe"
      },
      "source": [
        "user_new_dataframe = user_new_dataframe.sample(frac = 1)\n"
      ],
      "execution_count": null,
      "outputs": []
    },
    {
      "cell_type": "code",
      "metadata": {
        "id": "o0atjj_NA68S",
        "colab": {
          "base_uri": "https://localhost:8080/",
          "height": 137
        },
        "outputId": "8fb63d84-a447-4fe9-89d7-0c60d0ceea43"
      },
      "source": [
        "user_new_dataframe.to_csv()"
      ],
      "execution_count": null,
      "outputs": [
        {
          "output_type": "execute_result",
          "data": {
            "application/vnd.google.colaboratory.intrinsic+json": {
              "type": "string"
            },
            "text/plain": [
              "',usr_id,variable,articles_list\\n465,15,18,10035\\n786,11,31,40016\\n439,14,17,110017\\n797,22,31,20053\\n529,4,21,10044\\n315,15,12,9003\\n98,23,3,80019\\n888,13,35,20062\\n788,13,31,40021\\n960,10,38,20060\\n1077,2,43,6009\\n1050,0,42,12004\\n423,23,16,30015\\n1160,10,46,60015\\n409,9,16,20023\\n658,8,26,30021\\n629,4,25,10045\\n961,11,38,7007\\n68,18,2,40071\\n1399,24,55,11005\\n816,16,32,120022\\n1122,22,44,30071\\n1037,12,41,20064\\n45,20,1,40070\\n77,2,3,80018\\n1164,14,46,11006\\n1134,9,45,60016\\n742,17,29,120022\\n159,9,6,10011\\n147,22,5,5003\\n1224,24,48,1006\\n886,11,35,30040\\n568,18,22,20025\\n674,24,26,11006\\n970,20,38,60010\\n837,12,33,2007\\n375,0,15,10034\\n574,24,22,110018\\n507,7,20,3008\\n91,16,3,80021\\n206,6,8,9001\\n1138,13,45,30071\\n72,22,2,40072\\n75,0,3,70019\\n879,4,35,50010\\n746,21,29,10067\\n383,8,15,20022\\n1106,6,44,60017\\n679,4,27,30019\\n612,12,24,10061\\n980,5,39,130021\\n208,8,8,90012\\n479,4,19,100023\\n352,2,14,3003\\n226,1,9,80025\\n711,11,28,40059\\n404,4,16,9007\\n407,7,16,3001\\n1095,20,43,60014\\n1341,16,53,40053\\n107,7,4,80018\\n805,5,32,30039\\n236,11,9,10023\\n320,20,12,20025\\n403,3,16,9005\\n1146,21,45,50025\\n842,17,33,2003\\n1039,14,41,60021\\n623,23,24,10068\\n36,11,1,11008\\n450,0,18,20027\\n1391,16,55,130045\\n1366,16,54,130038\\n221,21,8,10021\\n1071,21,42,40031\\n1007,7,40,12007\\n581,6,23,110020\\n673,23,26,120023\\n982,7,39,20065\\n847,22,33,20055\\n187,12,7,13009\\n1076,1,43,40037\\n1294,19,51,40061\\n347,22,13,9004\\n231,6,9,100010\\n175,0,7,5001\\n110,10,4,5007\\n430,5,17,30018\\n1226,1,49,60014\\n391,16,15,110012\\n1126,1,45,1002\\n214,14,8,10032\\n71,21,2,70024\\n874,24,34,40029\\n639,14,25,2002\\n243,18,9,80021\\n13,13,0,70016\\n760,10,30,10067\\n993,18,39,10064\\n116,16,4,80023\\n1210,10,48,1008\\n631,6,25,10056\\n251,1,10,4001\\n1072,22,42,60019\\n294,19,11,10031\\n440,15,17,10034\\n97,22,3,40073\\n4,4,0,70016\\n538,13,21,110024\\n702,2,28,7004\\n1208,8,48,30058\\n735,10,29,40018\\n678,3,27,10057\\n129,4,5,80020\\n428,3,17,10030\\n442,17,17,30011\\n914,14,36,20073\\n395,20,15,30014\\n252,2,10,20019\\n1009,9,40,50011\\n126,1,5,80023\\n662,12,26,30032\\n449,24,17,8001\\n1129,4,45,12006\\n1318,18,52,6002\\n873,23,34,50025\\n335,10,13,90025\\n537,12,21,10059\\n130,5,5,10025\\n11,11,0,70016\\n761,11,30,20044\\n535,10,21,20031\\n1099,24,43,30057\\n931,6,37,30044\\n162,12,6,90015\\n1057,7,42,130023\\n934,9,37,40028\\n1128,3,45,130029\\n548,23,21,10064\\n657,7,26,8009\\n862,12,34,30033\\n436,11,17,10040\\n597,22,23,10048\\n1176,1,47,1003\\n727,2,29,50014\\n501,1,20,10039\\n1249,24,49,40047\\n392,17,15,10038\\n149,24,5,10014\\n637,12,25,40015\\n30,5,1,80016\\n339,14,13,30013\\n120,20,4,80022\\n590,15,23,110023\\n280,5,11,30012\\n1159,9,46,60022\\n1293,18,51,130033\\n924,24,36,130016\\n586,11,23,30017\\n510,10,20,3003\\n865,15,34,40018\\n1199,24,47,20075\\n1042,17,41,30060\\n121,21,4,10003\\n504,4,20,100024\\n179,4,7,10010\\n605,5,24,10062\\n1311,11,52,30068\\n96,21,3,5006\\n819,19,32,50010\\n646,21,25,10058\\n1216,16,48,60014\\n609,9,24,20041\\n1375,0,55,70010\\n402,2,16,30014\\n64,14,2,80019\\n1241,16,49,40047\\n787,12,31,10069\\n103,3,4,80011\\n38,13,1,40064\\n1175,0,47,130027\\n19,19,0,70021\\n849,24,33,2009\\n452,2,18,13003\\n864,14,34,130023\\n1035,10,41,40031\\n365,15,14,9007\\n477,2,19,20050\\n399,24,15,30017\\n967,17,38,50020\\n93,18,3,70023\\n240,15,9,10013\\n28,3,1,70017\\n274,24,10,3002\\n758,8,30,40017\\n515,15,20,20022\\n299,24,11,10043\\n1166,16,46,1001\\n1001,1,40,20069\\n1065,15,42,30051\\n255,5,10,110011\\n154,4,6,80025\\n63,13,2,40065\\n293,18,11,80025\\n708,8,28,40012\\n620,20,24,13000\\n895,20,35,40040\\n82,7,3,80015\\n1393,18,55,130041\\n762,12,30,10068\\n363,13,14,10048\\n672,22,26,20039\\n512,12,20,30021\\n1310,10,52,11003\\n853,3,34,30040\\n561,11,22,20030\\n839,14,33,50020\\n307,7,12,90025\\n677,2,27,10070\\n1170,20,46,30074\\n311,11,12,10034\\n709,9,28,40015\\n772,22,30,40018\\n596,21,23,10056\\n119,19,4,4001\\n139,14,5,90015\\n12,12,0,11008\\n963,13,38,30053\\n1425,0,57,130047\\n644,19,25,20045\\n509,9,20,3007\\n890,15,35,120020\\n1017,17,40,40043\\n235,10,9,4002\\n242,17,9,4006\\n1058,8,42,130024\\n169,19,6,90021\\n656,6,26,13002\\n718,18,28,30021\\n1082,7,43,50025\\n547,22,21,10047\\n1113,13,44,40053\\n1156,6,46,6003\\n562,12,22,10060\\n1218,18,48,40038\\n333,8,13,100017\\n108,8,4,80017\\n523,23,20,20046\\n732,7,29,120015\\n354,4,14,4008\\n955,5,38,130019\\n1075,0,43,20069\\n600,0,24,40058\\n1014,14,40,6004\\n573,23,22,13009\\n254,4,10,90016\\n1276,1,51,30066\\n983,8,39,30052\\n425,0,17,100023\\n780,5,31,10063\\n755,5,30,120019\\n1145,20,45,6003\\n1193,18,47,12005\\n823,23,32,12006\\n447,22,17,20027\\n156,6,6,4006\\n654,4,26,20034\\n696,21,27,40060\\n1219,19,48,40054\\n1000,0,40,40032\\n704,4,28,30021\\n137,12,5,80017\\n935,10,37,130011\\n1026,1,41,50020\\n109,9,4,10007\\n160,10,6,10012\\n144,19,5,4005\\n493,18,19,100023\\n491,16,19,8001\\n736,11,29,10060\\n524,24,20,20034\\n782,7,31,2003\\n496,21,19,110016\\n846,21,33,30037\\n929,4,37,50012\\n798,23,31,12002\\n1288,13,51,130046\\n489,14,19,30020\\n964,14,38,130031\\n626,1,25,110025\\n521,21,20,3008\\n150,0,6,40072\\n1268,18,50,12006\\n687,12,27,120015\\n9,9,0,70023\\n1021,21,40,40021\\n818,18,32,20043\\n1119,19,44,60015\\n0,0,0,40064\\n1115,15,44,40037\\n473,23,18,20045\\n418,18,16,10024\\n998,23,39,60016\\n511,11,20,30013\\n415,15,16,10031\\n184,9,7,4003\\n1123,23,44,6002\\n2,2,0,40068\\n1221,21,48,40050\\n534,9,21,20033\\n973,23,38,30064\\n385,10,15,10032\\n750,0,30,10060\\n541,16,21,30019\\n37,12,1,70016\\n952,2,38,130029\\n481,6,19,10044\\n743,18,29,10052\\n733,8,29,20045\\n351,1,14,10022\\n784,9,31,40021\\n49,24,1,40070\\n508,8,20,30012\\n316,16,12,9007\\n51,1,2,5004\\n680,5,27,20050\\n1351,1,54,40060\\n649,24,25,13002\\n340,15,13,9004\\n527,2,21,10069\\n1091,16,43,30053\\n92,17,3,80016\\n783,8,31,40020\\n591,16,23,30021\\n411,11,16,20024\\n118,18,4,40074\\n212,12,8,9007\\n46,21,1,40070\\n115,15,4,80021\\n102,2,4,80017\\n42,17,1,70020\\n401,1,16,9006\\n817,17,32,30041\\n1255,5,50,70012\\n397,22,15,10033\\n1044,19,41,30059\\n885,10,35,2009\\n128,3,5,10003\\n1246,21,49,130036\\n587,12,23,13005\\n241,16,9,90020\\n800,0,32,40015\\n773,23,30,30049\\n1052,2,42,30065\\n57,7,2,5004\\n1343,18,53,30067\\n848,23,33,30056\\n256,6,10,100014\\n611,11,24,110018\\n357,7,14,10031\\n883,8,35,7002\\n484,9,19,20031\\n322,22,12,90025\\n142,17,5,10002\\n437,12,17,20031\\n1236,11,49,30061\\n845,20,33,12003\\n1002,2,40,130033\\n638,13,25,10060\\n1243,18,49,40039\\n406,6,16,100023\\n669,19,26,13007\\n570,20,22,10047\\n134,9,5,80025\\n571,21,22,110021\\n261,11,10,4008\\n366,16,14,10038\\n24,24,0,40066\\n974,24,38,30048\\n211,11,8,10021\\n215,15,8,10014\\n342,17,13,90024\\n168,18,6,40075\\n270,20,10,20011\\n519,19,20,110018\\n979,4,39,40030\\n618,18,24,3008\\n1304,4,52,60019\\n901,1,36,130017\\n975,0,39,20065\\n722,22,28,30028\\n536,11,21,10046\\n851,1,34,50012\\n284,9,11,9003\\n875,0,35,2009\\n634,9,25,10058\\n978,3,39,50013\\n1157,7,46,50023\\n505,5,20,8008\\n1429,4,57,130044\\n60,10,2,80011\\n665,15,26,10057\\n1087,12,43,40037\\n111,11,4,80018\\n414,14,16,3008\\n1207,7,48,40053\\n1401,1,56,130046\\n189,14,7,10029\\n965,15,38,10071\\n827,2,33,30051\\n713,13,28,120015\\n1056,6,42,130029\\n88,13,3,10007\\n480,5,19,10052\\n1034,9,41,30049\\n291,16,11,10026\\n878,3,35,7001\\n222,22,8,10005\\n1068,18,42,7002\\n1096,21,43,30050\\n1213,13,48,11002\\n288,13,11,100024\\n33,8,1,70024\\n298,23,11,10027\\n1089,14,43,6007\\n470,20,18,110016\\n112,12,4,5008\\n897,22,35,30046\\n127,2,5,90010\\n47,22,1,70019\\n192,17,7,90020\\n207,7,8,10015\\n1133,8,45,20072\\n1162,12,46,40042\\n1010,10,40,10075\\n1084,9,43,130020\\n650,0,26,30024\\n555,5,22,40013\\n170,20,6,10015\\n419,19,16,3002\\n390,15,15,100015\\n619,19,24,20044\\n40,15,1,5004\\n990,15,39,40023\\n359,9,14,20015\\n1144,19,45,40048\\n1259,9,50,70014\\n856,6,34,40023\\n920,20,36,20073\\n50,0,2,70018\\n688,13,27,30031\\n948,23,37,60014\\n580,5,23,40014\\n986,11,39,40032\\n919,19,36,40034\\n957,7,38,20062\\n589,14,23,10063\\n770,20,30,130013\\n369,19,14,20023\\n100,0,4,70020\\n806,6,32,20051\\n766,16,30,20052\\n836,11,33,30035\\n220,20,8,4006\\n759,9,30,2005\\n1212,12,48,40047\\n328,3,13,100010\\n413,13,16,20034\\n576,1,23,10053\\n389,14,15,3006\\n386,11,15,10039\\n166,16,6,90015\\n21,21,0,11008\\n764,14,30,10074\\n1178,3,47,30072\\n725,0,29,13001\\n801,1,32,11007\\n349,24,13,110014\\n327,2,13,3002\\n923,23,36,60011\\n1287,12,51,130037\\n374,24,14,20031\\n1188,13,47,30073\\n1376,1,55,130045\\n1201,1,48,130029\\n345,20,13,20026\\n1426,1,57,130047\\n932,7,37,130012\\n232,7,9,10018\\n995,20,39,50024\\n498,23,19,13006\\n81,6,3,90010\\n132,7,5,80022\\n95,20,3,5002\\n1404,4,56,60024\\n301,1,12,90022\\n710,10,28,13008\\n31,6,1,10008\\n3,3,0,11009\\n59,9,2,5003\\n303,3,12,9001\\n1049,24,41,50021\\n686,11,27,13001\\n17,17,0,40064\\n378,3,15,20012\\n460,10,18,10036\\n39,14,1,40075\\n603,3,24,20033\\n794,19,31,10072\\n292,17,11,4007\\n643,18,25,10050\\n1279,4,51,6002\\n244,19,9,100012\\n1203,3,48,30073\\n559,9,22,20037\\n549,24,21,10049\\n1086,11,43,20071\\n1169,19,46,30067\\n695,20,27,120021\\n181,6,7,90023\\n1028,3,41,50018\\n228,3,9,90017\\n729,4,29,20040\\n838,13,33,20059\\n362,12,14,110011\\n1265,15,50,30065\\n1018,18,40,2005\\n1185,10,47,40048\\n216,16,8,10020\\n918,18,36,20045\\n377,2,15,30013\\n16,16,0,40066\\n926,1,37,130018\\n790,15,31,10062\\n1047,22,41,40050\\n297,22,11,4009\\n223,23,8,10022\\n1097,22,43,6004\\n1112,12,44,50023\\n1,1,0,11009\\n844,19,33,7005\\n1230,5,49,40058\\n740,15,29,120014\\n356,6,14,10034\\n1127,2,45,40061\\n1315,15,52,60025\\n1025,0,41,30051\\n1340,15,53,70013\\n67,17,2,40073\\n355,5,14,10047\\n815,15,32,40017\\n661,11,26,8006\\n532,7,21,10049\\n748,23,29,50014\\n90,15,3,80016\\n546,21,21,30034\\n1168,18,46,30050\\n467,17,18,110021\\n579,4,23,30013\\n1053,3,42,50021\\n1280,5,51,11005\\n1232,7,49,60024\\n739,14,29,10072\\n683,8,27,10058\\n615,15,24,10056\\n857,7,34,20056\\n768,18,30,13001\\n396,21,15,20025\\n564,14,22,20043\\n971,21,38,40028\\n913,13,36,40031\\n146,21,5,10008\\n285,10,11,4005\\n398,23,15,3004\\n304,4,12,10018\\n205,5,8,10039\\n1032,7,41,130024\\n1324,24,52,6002\\n705,5,28,40019\\n1362,12,54,30074\\n1424,24,56,40062\\n812,12,32,40021\\n305,5,12,3005\\n487,12,19,20036\\n29,4,1,70020\\n539,14,21,10059\\n616,16,24,120010\\n230,5,9,100024\\n652,2,26,7002\\n981,6,39,40031\\n719,19,28,30036\\n213,13,8,4009\\n690,15,27,110024\\n446,21,17,20029\\n5,5,0,5004\\n946,21,37,20058\\n558,8,22,110016\\n183,8,7,10012\\n584,9,23,30021\\n20,20,0,70017\\n323,23,12,100018\\n861,11,34,30036\\n1088,13,43,30065\\n503,3,20,3001\\n691,16,27,20047\\n1251,1,50,30065\\n834,9,33,10072\\n191,16,7,10017\\n771,21,30,120019\\n820,20,32,30047\\n1335,10,53,70012\\n1043,18,41,20056\\n73,23,2,70019\\n572,22,22,30014\\n483,8,19,20029\\n613,13,24,40012\\n514,14,20,20042\\n253,3,10,90018\\n1100,0,44,20072\\n737,12,29,40019\\n870,20,34,40035\\n855,5,34,130013\\n217,17,8,10021\\n714,14,28,40024\\n500,0,20,30015\\n1211,11,48,130028\\n85,10,3,80014\\n994,19,39,40039\\n338,13,13,10045\\n808,8,32,2006\\n426,1,17,10032\\n1296,21,51,11001\\n1094,19,43,70010\\n453,3,18,10039\\n868,18,34,30029\\n424,24,16,10050\\n958,8,38,30051\\n1235,10,49,70011\\n1108,8,44,50019\\n6,6,0,80014\\n928,3,37,30043\\n554,4,22,3005\\n1045,20,41,30061\\n157,7,6,10006\\n1290,15,51,60022\\n34,9,1,70024\\n331,6,13,10030\\n84,9,3,80011\\n70,20,2,5001\\n610,10,24,20036\\n922,22,36,40032\\n177,2,7,10019\\n720,20,28,40023\\n286,11,11,10033\\n738,13,29,120017\\n641,16,25,10059\\n531,6,21,20033\\n877,2,35,30055\\n1104,4,44,20069\\n939,14,37,130027\\n138,13,5,10018\\n486,11,19,3004\\n807,7,32,40022\\n427,2,17,30023\\n468,18,18,10038\\n903,3,36,20057\\n566,16,22,8004\\n859,9,34,7002\\n79,4,3,40070\\n728,3,29,20046\\n412,12,16,110012\\n860,10,34,30038\\n417,17,16,3003\\n601,1,24,8007\\n1254,4,50,130033\\n557,7,22,8001\\n734,9,29,13008\\n553,3,22,3004\\n925,0,37,7003\\n337,12,13,100023\\n1029,4,41,40033\\n1192,17,47,130035\\n384,9,15,11001\\n1054,4,42,30051\\n1051,1,42,130020\\n249,24,9,10024\\n54,4,2,70021\\n1131,6,45,30065\\n314,14,12,20027\\n1300,0,52,40051\\n1139,14,45,30075\\n1181,6,47,6004\\n907,7,36,20059\\n1250,0,50,6001\\n1174,24,46,30060\\n575,0,23,10053\\n1242,17,49,30074\\n43,18,1,40070\\n1179,4,47,1001\\n785,10,31,30034\\n876,1,35,30045\\n1191,16,47,130026\\n659,9,26,30025\\n1098,23,43,60021\\n959,9,38,20062\\n556,6,22,10050\\n1012,12,40,40030\\n312,12,12,20023\\n821,21,32,120022\\n1059,9,42,20066\\n716,16,28,20048\\n1244,19,49,60025\\n361,11,14,100020\\n1118,18,44,30045\\n670,20,26,10064\\n789,14,31,30041\\n15,15,0,70025\\n448,23,17,3009\\n747,22,29,10066\\n1325,0,53,60019\\n882,7,35,50011\\n381,6,15,20022\\n668,18,26,110019\\n275,0,11,10028\\n136,11,5,90011\\n117,17,4,80017\\n1256,6,50,11006\\n706,6,28,30026\\n666,16,26,120014\\n826,1,33,20057\\n271,21,10,9002\\n863,13,34,50012\\n941,16,37,30040\\n567,17,22,30031\\n229,4,9,90015\\n724,24,28,13007\\n123,23,4,80025\\n1286,11,51,30064\\n682,7,27,20045\\n1260,10,50,130036\\n602,2,24,20056\\n1023,23,40,130034\\n954,4,38,50013\\n1183,8,47,60013\\n445,20,17,10048\\n196,21,7,90019\\n962,12,38,40028\\n432,7,17,20027\\n933,8,37,40035\\n257,7,10,10019\\n194,19,7,10022\\n1291,16,51,40050\\n74,24,2,40074\\n497,22,19,110013\\n693,18,27,30020\\n26,1,1,40067\\n592,17,23,120016\\n956,6,38,130014\\n268,18,10,10008\\n376,1,15,4008\\n917,17,36,20064\\n237,12,9,20015\\n492,17,19,30024\\n984,9,39,40062\\n681,6,27,120011\\n630,5,25,120016\\n1040,15,41,30046\\n1184,9,47,60023\\n52,2,2,10001\\n155,5,6,100012\\n330,5,13,30014\\n779,4,31,120012\\n161,11,6,10011\\n565,15,22,20035\\n814,14,32,40031\\n306,6,12,100016\\n543,18,21,3001\\n916,16,36,20059\\n892,17,35,50015\\n343,18,13,90015\\n622,22,24,3005\\n569,19,22,10055\\n151,1,6,80024\\n360,10,14,10026\\n209,9,8,4006\\n1163,13,46,130040\\n872,22,34,120021\\n522,22,20,3006\\n516,16,20,20033\\n83,8,3,5008\\n143,18,5,80011\\n141,16,5,10009\\n867,17,34,20058\\n178,3,7,90015\\n488,13,19,110021\\n267,17,10,10023\\n245,20,9,10024\\n474,24,18,20036\\n951,1,38,30049\\n533,8,21,3005\\n165,15,6,90010\\n218,18,8,5003\\n18,18,0,70016\\n1041,16,41,20064\\n186,11,7,90016\\n627,2,25,40025\\n1006,6,40,7008\\n188,13,7,10021\\n1048,23,41,6003\\n281,6,11,100015\\n726,1,29,30031\\n1092,17,43,30061\\n1349,24,53,30070\\n1326,1,53,11002\\n1079,4,43,50020\\n1070,20,42,40045\\n433,8,17,20023\\n940,15,37,20054\\n277,2,11,100021\\n551,1,22,3003\\n949,24,37,130017\\n977,2,39,1009\\n225,0,9,9004\\n368,18,14,4001\\n454,4,18,100022\\n642,17,25,30036\\n1274,24,50,40045\\n310,10,12,10020\\n334,9,13,100014\\n595,20,23,8006\\n653,3,26,30017\\n62,12,2,70020\\n1301,1,52,40054\\n997,22,39,60015\\n915,15,36,120021\\n1329,4,53,60015\\n1186,11,47,20075\\n266,16,10,90025\\n604,4,24,30012\\n319,19,12,9008\\n1074,24,42,50024\\n367,17,14,10031\\n89,14,3,10007\\n528,3,21,20025\\n387,12,15,30011\\n495,20,19,20034\\n1062,12,42,130018\\n476,1,19,20018\\n10,10,0,70018\\n1285,10,51,30067\\n731,6,29,13008\\n1361,11,54,40058\\n563,13,22,20042\\n382,7,15,9009\\n172,22,6,80013\\n1020,20,40,1005\\n135,10,5,10011\\n869,19,34,30047\\n114,14,4,80025\\n578,3,23,3007\\n475,0,19,110013\\n588,13,23,40059\\n499,24,19,10053\\n429,4,17,100016\\n774,24,30,120021\\n744,19,29,10068\\n881,6,35,30041\\n325,0,13,10032\\n1150,0,46,130024\\n1081,6,43,30062\\n1153,3,46,130037\\n153,3,6,6009\\n459,9,18,30014\\n832,7,33,20055\\n309,9,12,100013\\n909,9,36,20060\\n455,5,18,10050\\n1231,6,49,70011\\n435,10,17,20019\\n945,20,37,30056\\n1116,16,44,40037\\n204,4,8,70012\\n317,17,12,9001\\n321,21,12,100010\\n279,4,11,4002\\n898,23,35,130027\\n358,8,14,10035\\n451,1,18,20017\\n793,18,31,30026\\n936,11,37,30041\\n1067,17,42,60013\\n133,8,5,80021\\n1190,15,47,40040\\n1354,4,54,40054\\n689,14,27,2008\\n410,10,16,20017\\n502,2,20,10067\\n1031,6,41,50014\\n438,13,17,30018\\n290,15,11,4008\\n703,3,28,10059\\n1142,17,45,130032\\n260,10,10,4004\\n1187,12,47,30061\\n614,14,24,40016\\n880,5,35,50014\\n341,16,13,20020\\n471,21,18,10047\\n765,15,30,30030\\n416,16,16,10045\\n884,9,35,30043\\n824,24,32,20054\\n106,6,4,10012\\n1312,12,52,30070\\n1158,8,46,30060\\n7,7,0,40068\\n545,20,21,20035\\n675,0,27,110021\\n76,1,3,80014\\n8,8,0,40070\\n494,19,19,30018\\n1283,8,51,130042\\n202,2,8,10029\\n336,11,13,10036\\n632,7,25,110025\\n730,5,29,2004\\n124,24,4,90013\\n25,0,1,11009\\n791,16,31,120020\\n583,8,23,3008\\n969,19,38,30052\\n684,9,27,20045\\n1013,13,40,40040\\n544,19,21,10051\\n1148,23,45,40053\\n843,18,33,30027\\n219,19,8,4008\\n896,21,35,2006\\n210,10,8,90016\\n751,1,30,10066\\n518,18,20,100024\\n792,17,31,10073\\n258,8,10,9002\\n259,9,10,10027\\n197,22,7,10001\\n803,3,32,2005\\n697,22,27,13003\\n1238,13,49,70011\\n48,23,1,40064\\n985,10,39,7001\\n1229,4,49,40048\\n289,14,11,20022\\n1387,12,55,130043\\n190,15,7,90013\\n699,24,27,20047\\n663,13,26,120014\\n1167,17,46,40049\\n645,20,25,40011\\n1030,5,41,130029\\n840,15,33,10066\\n420,20,16,20031\\n966,16,38,7005\\n1365,15,54,70015\\n1107,7,44,20073\\n944,19,37,50019\\n1205,5,48,30069\\n199,24,7,90017\\n676,1,27,10059\\n1307,7,52,30075\\n1368,18,54,130037\\n796,21,31,10069\\n86,11,3,80017\\n1234,9,49,130044\\n1066,16,42,50019\\n456,6,18,3004\\n1195,20,47,40063\\n989,14,39,30067\\n348,23,13,10037\\n910,10,36,30042\\n296,21,11,10027\\n996,21,39,40024\\n1412,12,56,130045\\n921,21,36,40026\\n457,7,18,20029\\n912,12,36,10074\\n594,19,23,10058\\n1060,10,42,20067\\n1258,8,50,30070\\n105,5,4,4005\\n373,23,14,20023\\n69,19,2,80021\\n87,12,3,40071\\n1204,4,48,30063\\n707,7,28,40014\\n1350,0,54,40055\\n756,6,30,30035\\n513,13,20,20038\\n1073,23,42,30068\\n233,8,9,4001\\n968,18,38,10065\\n1125,0,45,1001\\n1019,19,40,40042\\n272,22,10,90012\\n858,8,34,50010\\n769,19,30,20054\\n482,7,19,30014\\n158,8,6,80022\\n1008,8,40,50022\\n712,12,28,20047\\n1154,4,46,20073\\n269,19,10,100015\\n1117,17,44,70010\\n265,15,10,90023\\n371,21,14,20022\\n891,16,35,20058\\n66,16,2,80020\\n372,22,14,10029\\n1080,5,43,30065\\n1206,6,48,11001\\n431,6,17,110010\\n1275,0,51,6002\\n552,2,22,30038\\n1198,23,47,11004\\n525,0,21,110015\\n58,8,2,40075\\n180,5,7,100019\\n1046,21,41,50015\\n326,1,13,10023\\n640,15,25,30025\\n593,18,23,30013\\n1101,1,44,1001\\n628,3,25,10050\\n1069,19,42,60012\\n841,16,33,40024\\n905,5,36,50015\\n1063,13,42,30063\\n1055,5,42,1007\\n624,24,24,120011\\n104,4,4,40075\\n1454,4,58,70014\\n828,3,33,40023\\n1022,22,40,130033\\n655,5,26,120017\\n799,24,31,30038\\n741,16,29,40018\\n195,20,7,90019\\n927,2,37,30059\\n478,3,19,20024\\n599,24,23,10058\\n904,4,36,7002\\n899,24,35,20063\\n394,19,15,3001\\n1282,7,51,30074\\n145,20,5,90013\\n887,12,35,40025\\n813,13,32,2008\\n976,1,39,20068\\n972,22,38,30053\\n41,16,1,70021\\n1400,0,56,70014\\n717,17,28,40023\\n1337,12,53,6007\\n444,19,17,3007\\n943,18,37,13008\\n458,8,18,10044\\n200,0,8,80020\\n802,2,32,20066\\n27,2,1,70025\\n1038,13,41,40042\\n1064,14,42,40053\\n829,4,33,20051\\n53,3,2,70021\\n14,14,0,80010\\n1036,11,41,30050\\n332,7,13,20014\\n1269,19,50,11002\\n405,5,16,10049\\n1103,3,44,30060\\n1093,18,43,20060\\n1016,16,40,40030\\n1233,8,49,40054\\n1137,12,45,130023\\n113,13,4,10015\\n698,23,27,40024\\n607,7,24,8007\\n526,1,21,10042\\n660,10,26,13006\\n101,1,4,80016\\n1015,15,40,20061\\n866,16,34,20057\\n174,24,6,90016\\n1121,21,44,12007\\n893,18,35,40014\\n1161,11,46,20074\\n152,2,6,90012\\n344,19,13,20021\\n809,9,32,20056\\n1132,7,45,30060\\n441,16,17,110014\\n625,0,25,8007\\n466,16,18,20031\\n781,6,31,10068\\n22,22,0,11009\\n1124,24,44,130025\\n318,18,12,10014\\n685,10,27,10063\\n723,23,28,40025\\n278,3,11,90019\\n795,20,31,40031\\n1336,11,53,130041\\n852,2,34,12003\\n1371,21,54,130046\\n664,14,26,120023\\n32,7,1,40069\\n485,10,19,20024\\n1005,5,40,12005\\n167,17,6,10019\\n350,0,14,10033\\n1130,5,45,60021\\n247,22,9,10008\\n250,0,10,9005\\n542,17,21,30029\\n1346,21,53,130044\\n490,15,19,100019\\n1237,12,49,40048\\n99,24,3,80020\\n422,22,16,100019\\n1299,24,51,30065\\n131,6,5,90014\\n302,2,12,10042\\n651,1,26,120010\\n517,17,20,13003\\n388,13,15,30017\\n1215,15,48,40045\\n1085,10,43,20069\\n1165,15,46,12008\\n1217,17,48,6005\\n938,13,37,130018\\n353,3,14,10026\\n462,12,18,3009\\n1200,0,48,130028\\n163,13,6,10020\\n692,17,27,2006\\n777,2,31,7006\\n364,14,14,30014\\n393,18,15,90021\\n1141,16,45,20069\\n1152,2,46,11007\\n263,13,10,20021\\n906,6,36,40026\\n701,1,28,30029\\n239,14,9,10033\\n1083,8,43,40036\\n1011,11,40,12001\\n185,10,7,90013\\n1151,1,46,30059\\n937,12,37,20053\\n1135,10,45,30062\\n1308,8,52,11003\\n1180,5,47,30070\\n942,17,37,7008\\n647,22,25,8007\\n617,17,24,30035\\n234,9,9,90024\\n754,4,30,120011\\n835,10,33,120023\\n889,14,35,20072\\n871,21,34,30039\\n295,20,11,20012\\n472,22,18,30012\\n1266,16,50,40049\\n582,7,23,10052\\n767,17,30,7001\\n560,10,22,10049\\n1027,2,41,40051\\n577,2,23,2005\\n833,8,33,10073\\n930,5,37,30045\\n1140,15,45,50023\\n854,4,34,2005\\n831,6,33,120023\\n1271,21,50,130038\\n1114,14,44,30068\\n911,11,36,7001\\n55,5,2,10002\\n282,7,11,90020\\n894,19,35,130017\\n585,10,23,10051\\n61,11,2,40074\\n953,3,38,7003\\n752,2,30,20063\\n1033,8,41,12006\\n1194,19,47,6003\\n1102,2,44,30075\\n1004,4,40,7007\\n635,10,25,30021\\n987,12,39,50011\\n227,2,9,100016\\n908,8,36,130014\\n262,12,10,10034\\n530,5,21,10060\\n287,12,11,130039\\n1024,24,40,12004\\n238,13,9,10030\\n370,20,14,30011\\n173,23,6,10018\\n464,14,18,10052\\n1110,10,44,130022\\n775,0,31,120014\\n1105,5,44,30068\\n122,22,4,80010\\n550,0,22,30018\\n176,1,7,10009\\n947,22,37,50017\\n992,17,39,130022\\n694,19,27,20048\\n1209,9,48,40057\\n988,13,39,30054\\n273,23,10,9003\\n78,3,3,40074\\n193,18,7,80012\\n648,23,25,40020\\n1078,3,43,12006\\n749,24,29,120017\\n80,5,3,10015\\n164,14,6,90019\\n1240,15,49,60017\\n950,0,38,20064\\n379,4,15,20013\\n825,0,33,2002\\n1109,9,44,1002\\n1316,16,52,6002\\n1143,18,45,40028\\n313,13,12,10040\\n421,21,16,20026\\n1225,0,49,40045\\n1061,11,42,40038\\n408,8,16,10039\\n35,10,1,40074\\n999,24,39,30051\\n1379,4,55,40055\\n171,21,6,90013\\n633,8,25,10051\\n125,0,5,40067\\n283,8,11,100014\\n991,16,39,50014\\n1090,15,43,50019\\n902,2,36,40040\\n830,5,33,10075\\n671,21,26,13004\\n463,13,18,8002\\n469,19,18,20031\\n201,1,8,10010\\n1374,24,54,40055\\n804,4,32,20047\\n900,0,36,50010\\n246,21,9,90021\\n308,8,12,20017\\n1263,13,50,40060\\n700,0,28,20037\\n23,23,0,11008\\n667,17,26,30037\\n1386,11,55,130043\\n224,24,8,10021\\n540,15,21,100022\\n1111,11,44,130024\\n1196,21,47,1006\\n56,6,2,6009\\n400,0,16,10035\\n380,5,15,3003\\n44,19,1,5006\\n715,15,28,40013\\n329,4,13,90023\\n598,23,23,10067\\n443,18,17,10028\\n140,15,5,80022\\n1262,12,50,130033\\n461,11,18,10041\\n276,1,11,10021\\n778,3,31,10063\\n1149,24,45,30059\\n822,22,32,20054\\n94,19,3,90016\\n1411,11,56,11007\\n753,3,30,13007\\n636,11,25,130042\\n763,13,30,13007\\n745,20,29,50010\\n608,8,24,20028\\n621,21,24,40010\\n850,0,34,30035\\n203,3,8,10016\\n434,9,17,20029\\n346,21,13,100018\\n1257,7,50,11001\\n1171,21,46,40043\\n606,6,24,20039\\n1182,7,47,40049\\n300,0,12,10031\\n1321,21,52,70011\\n520,20,20,110019\\n776,1,31,20051\\n182,7,7,80024\\n757,7,30,120018\\n1003,3,40,20062\\n148,23,5,10016\\n1136,11,45,40039\\n1261,11,50,40043\\n65,15,2,80013\\n810,10,32,20054\\n324,24,12,30012\\n264,14,10,100022\\n506,6,20,20031\\n721,21,28,40018\\n198,23,7,4003\\n1173,23,46,70011\\n1120,20,44,40051\\n811,11,32,10065\\n248,23,9,4008\\n1155,5,46,40054\\n'"
            ]
          },
          "metadata": {
            "tags": []
          },
          "execution_count": 15
        }
      ]
    },
    {
      "cell_type": "code",
      "metadata": {
        "id": "PMtMwgf6A-FN"
      },
      "source": [
        "compression_opts = dict(method='zip',\n",
        "                        archive_name='user_new_dataframe.csv')  \n",
        "user_new_dataframe.to_csv('user_new_dataframe.zip', index=False,\n",
        "          compression=compression_opts)  "
      ],
      "execution_count": null,
      "outputs": []
    },
    {
      "cell_type": "code",
      "metadata": {
        "id": "vLDbm5b7BLJE",
        "colab": {
          "resources": {
            "http://localhost:8080/nbextensions/google.colab/files.js": {
              "data": "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",
              "ok": true,
              "headers": [
                [
                  "content-type",
                  "application/javascript"
                ]
              ],
              "status": 200,
              "status_text": ""
            }
          },
          "base_uri": "https://localhost:8080/",
          "height": 38
        },
        "outputId": "c4f6ec68-c34c-4e80-cf0a-2861aa66f390"
      },
      "source": [
        "from google.colab import files\n",
        "file = files.upload()"
      ],
      "execution_count": null,
      "outputs": [
        {
          "output_type": "display_data",
          "data": {
            "text/html": [
              "\n",
              "     <input type=\"file\" id=\"files-5348feb5-1fd3-474a-a1b4-95559c1b962f\" name=\"files[]\" multiple disabled\n",
              "        style=\"border:none\" />\n",
              "     <output id=\"result-5348feb5-1fd3-474a-a1b4-95559c1b962f\">\n",
              "      Upload widget is only available when the cell has been executed in the\n",
              "      current browser session. Please rerun this cell to enable.\n",
              "      </output>\n",
              "      <script src=\"/nbextensions/google.colab/files.js\"></script> "
            ],
            "text/plain": [
              "<IPython.core.display.HTML object>"
            ]
          },
          "metadata": {
            "tags": []
          }
        }
      ]
    },
    {
      "cell_type": "code",
      "metadata": {
        "id": "TJQYHypoQAK0",
        "colab": {
          "base_uri": "https://localhost:8080/",
          "height": 374
        },
        "outputId": "fb7b7df5-a2b8-4de4-9278-b7b3e9e8c015"
      },
      "source": [
        "df2 =  pd.read_csv('user_new_dataframe.csv')"
      ],
      "execution_count": null,
      "outputs": [
        {
          "output_type": "error",
          "ename": "FileNotFoundError",
          "evalue": "ignored",
          "traceback": [
            "\u001b[0;31m---------------------------------------------------------------------------\u001b[0m",
            "\u001b[0;31mFileNotFoundError\u001b[0m                         Traceback (most recent call last)",
            "\u001b[0;32m<ipython-input-18-8afded4ca561>\u001b[0m in \u001b[0;36m<module>\u001b[0;34m()\u001b[0m\n\u001b[0;32m----> 1\u001b[0;31m \u001b[0mdf2\u001b[0m \u001b[0;34m=\u001b[0m  \u001b[0mpd\u001b[0m\u001b[0;34m.\u001b[0m\u001b[0mread_csv\u001b[0m\u001b[0;34m(\u001b[0m\u001b[0;34m'user_new_dataframe.csv'\u001b[0m\u001b[0;34m)\u001b[0m\u001b[0;34m\u001b[0m\u001b[0;34m\u001b[0m\u001b[0m\n\u001b[0m",
            "\u001b[0;32m/usr/local/lib/python3.7/dist-packages/pandas/io/parsers.py\u001b[0m in \u001b[0;36mread_csv\u001b[0;34m(filepath_or_buffer, sep, delimiter, header, names, index_col, usecols, squeeze, prefix, mangle_dupe_cols, dtype, engine, converters, true_values, false_values, skipinitialspace, skiprows, skipfooter, nrows, na_values, keep_default_na, na_filter, verbose, skip_blank_lines, parse_dates, infer_datetime_format, keep_date_col, date_parser, dayfirst, cache_dates, iterator, chunksize, compression, thousands, decimal, lineterminator, quotechar, quoting, doublequote, escapechar, comment, encoding, dialect, error_bad_lines, warn_bad_lines, delim_whitespace, low_memory, memory_map, float_precision)\u001b[0m\n\u001b[1;32m    686\u001b[0m     )\n\u001b[1;32m    687\u001b[0m \u001b[0;34m\u001b[0m\u001b[0m\n\u001b[0;32m--> 688\u001b[0;31m     \u001b[0;32mreturn\u001b[0m \u001b[0m_read\u001b[0m\u001b[0;34m(\u001b[0m\u001b[0mfilepath_or_buffer\u001b[0m\u001b[0;34m,\u001b[0m \u001b[0mkwds\u001b[0m\u001b[0;34m)\u001b[0m\u001b[0;34m\u001b[0m\u001b[0;34m\u001b[0m\u001b[0m\n\u001b[0m\u001b[1;32m    689\u001b[0m \u001b[0;34m\u001b[0m\u001b[0m\n\u001b[1;32m    690\u001b[0m \u001b[0;34m\u001b[0m\u001b[0m\n",
            "\u001b[0;32m/usr/local/lib/python3.7/dist-packages/pandas/io/parsers.py\u001b[0m in \u001b[0;36m_read\u001b[0;34m(filepath_or_buffer, kwds)\u001b[0m\n\u001b[1;32m    452\u001b[0m \u001b[0;34m\u001b[0m\u001b[0m\n\u001b[1;32m    453\u001b[0m     \u001b[0;31m# Create the parser.\u001b[0m\u001b[0;34m\u001b[0m\u001b[0;34m\u001b[0m\u001b[0;34m\u001b[0m\u001b[0m\n\u001b[0;32m--> 454\u001b[0;31m     \u001b[0mparser\u001b[0m \u001b[0;34m=\u001b[0m \u001b[0mTextFileReader\u001b[0m\u001b[0;34m(\u001b[0m\u001b[0mfp_or_buf\u001b[0m\u001b[0;34m,\u001b[0m \u001b[0;34m**\u001b[0m\u001b[0mkwds\u001b[0m\u001b[0;34m)\u001b[0m\u001b[0;34m\u001b[0m\u001b[0;34m\u001b[0m\u001b[0m\n\u001b[0m\u001b[1;32m    455\u001b[0m \u001b[0;34m\u001b[0m\u001b[0m\n\u001b[1;32m    456\u001b[0m     \u001b[0;32mif\u001b[0m \u001b[0mchunksize\u001b[0m \u001b[0;32mor\u001b[0m \u001b[0miterator\u001b[0m\u001b[0;34m:\u001b[0m\u001b[0;34m\u001b[0m\u001b[0;34m\u001b[0m\u001b[0m\n",
            "\u001b[0;32m/usr/local/lib/python3.7/dist-packages/pandas/io/parsers.py\u001b[0m in \u001b[0;36m__init__\u001b[0;34m(self, f, engine, **kwds)\u001b[0m\n\u001b[1;32m    946\u001b[0m             \u001b[0mself\u001b[0m\u001b[0;34m.\u001b[0m\u001b[0moptions\u001b[0m\u001b[0;34m[\u001b[0m\u001b[0;34m\"has_index_names\"\u001b[0m\u001b[0;34m]\u001b[0m \u001b[0;34m=\u001b[0m \u001b[0mkwds\u001b[0m\u001b[0;34m[\u001b[0m\u001b[0;34m\"has_index_names\"\u001b[0m\u001b[0;34m]\u001b[0m\u001b[0;34m\u001b[0m\u001b[0;34m\u001b[0m\u001b[0m\n\u001b[1;32m    947\u001b[0m \u001b[0;34m\u001b[0m\u001b[0m\n\u001b[0;32m--> 948\u001b[0;31m         \u001b[0mself\u001b[0m\u001b[0;34m.\u001b[0m\u001b[0m_make_engine\u001b[0m\u001b[0;34m(\u001b[0m\u001b[0mself\u001b[0m\u001b[0;34m.\u001b[0m\u001b[0mengine\u001b[0m\u001b[0;34m)\u001b[0m\u001b[0;34m\u001b[0m\u001b[0;34m\u001b[0m\u001b[0m\n\u001b[0m\u001b[1;32m    949\u001b[0m \u001b[0;34m\u001b[0m\u001b[0m\n\u001b[1;32m    950\u001b[0m     \u001b[0;32mdef\u001b[0m \u001b[0mclose\u001b[0m\u001b[0;34m(\u001b[0m\u001b[0mself\u001b[0m\u001b[0;34m)\u001b[0m\u001b[0;34m:\u001b[0m\u001b[0;34m\u001b[0m\u001b[0;34m\u001b[0m\u001b[0m\n",
            "\u001b[0;32m/usr/local/lib/python3.7/dist-packages/pandas/io/parsers.py\u001b[0m in \u001b[0;36m_make_engine\u001b[0;34m(self, engine)\u001b[0m\n\u001b[1;32m   1178\u001b[0m     \u001b[0;32mdef\u001b[0m \u001b[0m_make_engine\u001b[0m\u001b[0;34m(\u001b[0m\u001b[0mself\u001b[0m\u001b[0;34m,\u001b[0m \u001b[0mengine\u001b[0m\u001b[0;34m=\u001b[0m\u001b[0;34m\"c\"\u001b[0m\u001b[0;34m)\u001b[0m\u001b[0;34m:\u001b[0m\u001b[0;34m\u001b[0m\u001b[0;34m\u001b[0m\u001b[0m\n\u001b[1;32m   1179\u001b[0m         \u001b[0;32mif\u001b[0m \u001b[0mengine\u001b[0m \u001b[0;34m==\u001b[0m \u001b[0;34m\"c\"\u001b[0m\u001b[0;34m:\u001b[0m\u001b[0;34m\u001b[0m\u001b[0;34m\u001b[0m\u001b[0m\n\u001b[0;32m-> 1180\u001b[0;31m             \u001b[0mself\u001b[0m\u001b[0;34m.\u001b[0m\u001b[0m_engine\u001b[0m \u001b[0;34m=\u001b[0m \u001b[0mCParserWrapper\u001b[0m\u001b[0;34m(\u001b[0m\u001b[0mself\u001b[0m\u001b[0;34m.\u001b[0m\u001b[0mf\u001b[0m\u001b[0;34m,\u001b[0m \u001b[0;34m**\u001b[0m\u001b[0mself\u001b[0m\u001b[0;34m.\u001b[0m\u001b[0moptions\u001b[0m\u001b[0;34m)\u001b[0m\u001b[0;34m\u001b[0m\u001b[0;34m\u001b[0m\u001b[0m\n\u001b[0m\u001b[1;32m   1181\u001b[0m         \u001b[0;32melse\u001b[0m\u001b[0;34m:\u001b[0m\u001b[0;34m\u001b[0m\u001b[0;34m\u001b[0m\u001b[0m\n\u001b[1;32m   1182\u001b[0m             \u001b[0;32mif\u001b[0m \u001b[0mengine\u001b[0m \u001b[0;34m==\u001b[0m \u001b[0;34m\"python\"\u001b[0m\u001b[0;34m:\u001b[0m\u001b[0;34m\u001b[0m\u001b[0;34m\u001b[0m\u001b[0m\n",
            "\u001b[0;32m/usr/local/lib/python3.7/dist-packages/pandas/io/parsers.py\u001b[0m in \u001b[0;36m__init__\u001b[0;34m(self, src, **kwds)\u001b[0m\n\u001b[1;32m   2008\u001b[0m         \u001b[0mkwds\u001b[0m\u001b[0;34m[\u001b[0m\u001b[0;34m\"usecols\"\u001b[0m\u001b[0;34m]\u001b[0m \u001b[0;34m=\u001b[0m \u001b[0mself\u001b[0m\u001b[0;34m.\u001b[0m\u001b[0musecols\u001b[0m\u001b[0;34m\u001b[0m\u001b[0;34m\u001b[0m\u001b[0m\n\u001b[1;32m   2009\u001b[0m \u001b[0;34m\u001b[0m\u001b[0m\n\u001b[0;32m-> 2010\u001b[0;31m         \u001b[0mself\u001b[0m\u001b[0;34m.\u001b[0m\u001b[0m_reader\u001b[0m \u001b[0;34m=\u001b[0m \u001b[0mparsers\u001b[0m\u001b[0;34m.\u001b[0m\u001b[0mTextReader\u001b[0m\u001b[0;34m(\u001b[0m\u001b[0msrc\u001b[0m\u001b[0;34m,\u001b[0m \u001b[0;34m**\u001b[0m\u001b[0mkwds\u001b[0m\u001b[0;34m)\u001b[0m\u001b[0;34m\u001b[0m\u001b[0;34m\u001b[0m\u001b[0m\n\u001b[0m\u001b[1;32m   2011\u001b[0m         \u001b[0mself\u001b[0m\u001b[0;34m.\u001b[0m\u001b[0munnamed_cols\u001b[0m \u001b[0;34m=\u001b[0m \u001b[0mself\u001b[0m\u001b[0;34m.\u001b[0m\u001b[0m_reader\u001b[0m\u001b[0;34m.\u001b[0m\u001b[0munnamed_cols\u001b[0m\u001b[0;34m\u001b[0m\u001b[0;34m\u001b[0m\u001b[0m\n\u001b[1;32m   2012\u001b[0m \u001b[0;34m\u001b[0m\u001b[0m\n",
            "\u001b[0;32mpandas/_libs/parsers.pyx\u001b[0m in \u001b[0;36mpandas._libs.parsers.TextReader.__cinit__\u001b[0;34m()\u001b[0m\n",
            "\u001b[0;32mpandas/_libs/parsers.pyx\u001b[0m in \u001b[0;36mpandas._libs.parsers.TextReader._setup_parser_source\u001b[0;34m()\u001b[0m\n",
            "\u001b[0;31mFileNotFoundError\u001b[0m: [Errno 2] No such file or directory: 'user_new_dataframe.csv'"
          ]
        }
      ]
    },
    {
      "cell_type": "code",
      "metadata": {
        "id": "dnWs2TKNQZ-P"
      },
      "source": [
        "df2.head(10)"
      ],
      "execution_count": null,
      "outputs": []
    },
    {
      "cell_type": "code",
      "metadata": {
        "id": "x5VNNZzkQcmx"
      },
      "source": [
        "df2['eventType'] = df2['eventType'].sample(frac = 1).values\n"
      ],
      "execution_count": null,
      "outputs": []
    },
    {
      "cell_type": "code",
      "metadata": {
        "id": "QGehpqOAQtT0"
      },
      "source": [
        "df2"
      ],
      "execution_count": null,
      "outputs": []
    },
    {
      "cell_type": "code",
      "metadata": {
        "id": "4hVRKgQ5QwYq"
      },
      "source": [
        "df2.isnull().sum()"
      ],
      "execution_count": null,
      "outputs": []
    },
    {
      "cell_type": "code",
      "metadata": {
        "id": "j0vvDIEGocEO"
      },
      "source": [
        ""
      ],
      "execution_count": null,
      "outputs": []
    }
  ]
}